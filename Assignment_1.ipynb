{
 "cells": [
  {
   "cell_type": "code",
   "execution_count": 126,
   "id": "39aea541",
   "metadata": {},
   "outputs": [
    {
     "name": "stdout",
     "output_type": "stream",
     "text": [
      "[12, 23, 35, 24, 88, 120, 155]\n"
     ]
    }
   ],
   "source": [
    "#1)With a given list [12,23,35,24,88,120,155,88,120,155] write a program to print this list \n",
    "#after removing all duplicate values with original order reserved.\n",
    "\n",
    "l = [12,23,35,24,88,120,155,88,120,155]\n",
    "\n",
    "l1 = []\n",
    "\n",
    "for i in l :\n",
    "    if i not in l1:\n",
    "        l1.append(i)\n",
    "print(l1)"
   ]
  },
  {
   "cell_type": "code",
   "execution_count": 6,
   "id": "57ea20e9",
   "metadata": {},
   "outputs": [
    {
     "name": "stdout",
     "output_type": "stream",
     "text": [
      "I am male!\n",
      "I am Female!\n"
     ]
    }
   ],
   "source": [
    "#Write a class person and its two sub class male and female. All classes have a method \n",
    "#getGender which can print male for male and female for female. \n",
    "\n",
    "\n",
    "class Person(object):\n",
    "    def getGender(self):\n",
    "        print(\"Not Define\")\n",
    "        \n",
    "class Male(Person):\n",
    "    def getGender(self):\n",
    "        print(\"I am male!\")\n",
    "\n",
    "class Female(Person):\n",
    "    def getGender(self):\n",
    "        print(\"I am Female!\")\n",
    "    \n",
    "male=Male()\n",
    "male.getGender()\n",
    "female=Female()\n",
    "female.getGender()"
   ]
  },
  {
   "cell_type": "code",
   "execution_count": 19,
   "id": "f97292df",
   "metadata": {},
   "outputs": [
    {
     "name": "stdout",
     "output_type": "stream",
     "text": [
      "a2 b2 c2 d1 e1 f1 g1 "
     ]
    }
   ],
   "source": [
    "#3) Please write a program which will count and print the numbers of each characters in string input by console for example. \n",
    "#Input: abcdefgabc output will be a2 b2 c2 d1 e1 f1\n",
    "\n",
    "\n",
    "def Char_Count(st):\n",
    "    \n",
    "    d = {}\n",
    "    for i in st:\n",
    "        if i in d:\n",
    "            d[i]+=1\n",
    "        else:\n",
    "            d[i]=1\n",
    "    #return d\n",
    "    for k,v in d.items():\n",
    "        print(k,end='')\n",
    "        print(v,end='')\n",
    "        print(end=' ')\n",
    "\n",
    "Char_Count(\"abcdefgabc\")"
   ]
  },
  {
   "cell_type": "code",
   "execution_count": 20,
   "id": "ad713e54",
   "metadata": {},
   "outputs": [
    {
     "name": "stdout",
     "output_type": "stream",
     "text": [
      "Please enter the string here - pot\n",
      "top\n"
     ]
    }
   ],
   "source": [
    "#4) Write a program to reverse the string given by the user on console don’t iterate in reverse order\n",
    "\n",
    "def Rev_string(s):\n",
    "    \n",
    "    for i in s:\n",
    "        return(s[::-1])\n",
    "\n",
    "s = input(\"Please enter the string here - \")\n",
    "print(Rev_string(s))"
   ]
  },
  {
   "cell_type": "code",
   "execution_count": 33,
   "id": "a325d48a",
   "metadata": {},
   "outputs": [
    {
     "name": "stdout",
     "output_type": "stream",
     "text": [
      "Please enter the value here - dfdsf33q\n",
      "dfdsfq"
     ]
    }
   ],
   "source": [
    "#5)Please write a program which will take alpha numeric value from the user and only print the alphabets \n",
    "\n",
    "def Alpha_Num(s):\n",
    "    \n",
    "    for i in s:\n",
    "        if i.isalpha():\n",
    "            print(i,end='')\n",
    "s = input(\"Please enter the value here - \")          \n",
    "Alpha_Num(s)"
   ]
  },
  {
   "cell_type": "code",
   "execution_count": 46,
   "id": "c2676d83",
   "metadata": {},
   "outputs": [
    {
     "name": "stdout",
     "output_type": "stream",
     "text": [
      "Please enter your number here - 120\n",
      "1 2 0\n",
      "1 0 2\n",
      "2 1 0\n",
      "2 0 1\n",
      "0 1 2\n",
      "0 2 1\n"
     ]
    }
   ],
   "source": [
    "#6)User can input different digits like 1,2,3 now you have to print all permutation of 1,2,3 don’t use inbuilt function \n",
    "\n",
    "def Permutation(num):\n",
    "      \n",
    "    for i in range(3):\n",
    "        for j in range(3):\n",
    "            for k in range(3):\n",
    "                   if (i!=j and j!=k and i!=k):\n",
    "                    print(num[i],num[j],num[k])\n",
    "num = input(\"Please enter your number here - \")\n",
    "Permutation(tuple(num))"
   ]
  },
  {
   "cell_type": "code",
   "execution_count": 70,
   "id": "2fb60f52",
   "metadata": {},
   "outputs": [
    {
     "name": "stdout",
     "output_type": "stream",
     "text": [
      "Please enter the Heads here - 17\n",
      "Please enter the Legs here - 50\n",
      "This is count of Rabbit -8\n",
      "This is count of Chicken -9\n"
     ]
    }
   ],
   "source": [
    "#7)Write a program to solve classic ancient Chinese puzzle. We count 35 heads and 94 legs among the chicken and rabbits in a farm. \n",
    "#How many rabbits and how many chicken we have. \n",
    "\n",
    "def HLCounts(H,L):\n",
    "    Chicken_Count=0\n",
    "    Rabbit_Count=0\n",
    "    if L % 2 == 0 and L > H:\n",
    "        Rabbit_Count=(L // 2) - H\n",
    "        Chicken_Count=(H-Rabbit_Count)\n",
    "        \n",
    "    print(f'This is count of Rabbit -{Rabbit_Count}')\n",
    "    print(f'This is count of Chicken -{Chicken_Count}')\n",
    "        \n",
    "\n",
    "H = int(input(\"Please enter the Heads here - \"))   \n",
    "L = int(input(\"Please enter the Legs here - \"))\n",
    "HLCounts(H,L)\n"
   ]
  },
  {
   "cell_type": "code",
   "execution_count": 92,
   "id": "8db79636",
   "metadata": {},
   "outputs": [
    {
     "name": "stdout",
     "output_type": "stream",
     "text": [
      "1662973088.22792\n",
      "2\n",
      "2\n",
      "2\n",
      "2\n",
      "2\n",
      "2\n",
      "2\n",
      "2\n",
      "2\n",
      "2\n",
      "1662973088.2288957\n",
      "Total runtime of the program is 0.0009756088256835938\n"
     ]
    }
   ],
   "source": [
    "#8)Write a program to print the running time of execution of “1+1” for 100 times.\n",
    "import time\n",
    "\n",
    "begin = time.time()\n",
    "print(begin)\n",
    "for i in range(10):\n",
    "    print(1+1)\n",
    "end = time.time()\n",
    "print(end)\n",
    "  \n",
    "print(f\"Total runtime of the program is {end - begin}\")"
   ]
  },
  {
   "cell_type": "code",
   "execution_count": 171,
   "id": "78fd148a",
   "metadata": {},
   "outputs": [
    {
     "name": "stdout",
     "output_type": "stream",
     "text": [
      "[6, 8, 7, 3]\n"
     ]
    }
   ],
   "source": [
    "#9) Write a program to shuffle and print the list [3,6,7,8].\n",
    "import random\n",
    " \n",
    "test_list = [3,6,7,8]\n",
    "random.shuffle(test_list)\n",
    "print(test_list)"
   ]
  },
  {
   "cell_type": "code",
   "execution_count": 170,
   "id": "7ea83c79",
   "metadata": {},
   "outputs": [
    {
     "name": "stdout",
     "output_type": "stream",
     "text": [
      "I play hockey\n",
      "I play football\n",
      "I love hockey\n",
      "I love football\n",
      "You play hockey\n",
      "You play football\n",
      "You love hockey\n",
      "You love football\n"
     ]
    }
   ],
   "source": [
    "#10)Write a program to generate all sentences where subject is in [“I”,”You”], and verb is in [“play”,”love”], \n",
    "#and the object is in [“hockey”,”football”]. You can use list[index]\n",
    "\n",
    "l=[\"I\",\"You\"]\n",
    "l1=[\"play\",\"love\"]\n",
    "l2=[\"hockey\",\"football\"]\n",
    "\n",
    "for i in range(len(l)):\n",
    "    for j in range(len(l)):\n",
    "        for k in range(len(l)):\n",
    "            print(l[i],l1[j],l2[k])\n",
    "            \n"
   ]
  },
  {
   "cell_type": "code",
   "execution_count": 148,
   "id": "bbe8bf16",
   "metadata": {},
   "outputs": [
    {
     "name": "stdout",
     "output_type": "stream",
     "text": [
      "[35]\n"
     ]
    }
   ],
   "source": [
    "#11) Two list are given to you first list [1,3,6,78,35,55] and second list [12,24,35,24,88,120,155] \n",
    "#now you have to create third list which will be intersection of these two list.\n",
    "\n",
    "l = [1,3,6,78,35,55]\n",
    "l1 = [12,24,35,24,88,120,155]\n",
    "\n",
    "op=[]\n",
    "for i in l:\n",
    "    if i in l1:\n",
    "        op.append(i)\n",
    "print(op)"
   ]
  },
  {
   "cell_type": "code",
   "execution_count": null,
   "id": "31fa3508",
   "metadata": {},
   "outputs": [],
   "source": []
  }
 ],
 "metadata": {
  "kernelspec": {
   "display_name": "Python 3 (ipykernel)",
   "language": "python",
   "name": "python3"
  },
  "language_info": {
   "codemirror_mode": {
    "name": "ipython",
    "version": 3
   },
   "file_extension": ".py",
   "mimetype": "text/x-python",
   "name": "python",
   "nbconvert_exporter": "python",
   "pygments_lexer": "ipython3",
   "version": "3.10.6"
  }
 },
 "nbformat": 4,
 "nbformat_minor": 5
}
